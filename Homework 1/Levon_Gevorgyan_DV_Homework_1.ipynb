{
 "cells": [
  {
   "cell_type": "markdown",
   "id": "3386631a-ffdd-4934-9e22-ab5bb557ef88",
   "metadata": {},
   "source": [
    "**Homework Assignment 1**"
   ]
  },
  {
   "cell_type": "markdown",
   "id": "984b30b2-2a59-409d-87ad-7dc320079bdc",
   "metadata": {},
   "source": [
    "*Student Name:* Levon Gevorgyan"
   ]
  },
  {
   "cell_type": "code",
   "execution_count": 79,
   "id": "32d5a63b-9ca2-4fcf-a76b-318923182a25",
   "metadata": {},
   "outputs": [],
   "source": [
    "import pandas as pd"
   ]
  },
  {
   "cell_type": "markdown",
   "id": "6c3365fa-afa2-4ef3-a5f9-bdb65c20b8f6",
   "metadata": {},
   "source": [
    "**PART 1**"
   ]
  },
  {
   "cell_type": "markdown",
   "id": "bf694322-8d2e-41ab-8af6-d1f4193ccf7a",
   "metadata": {},
   "source": [
    "1. Load the dataset. Check the first 5 rows."
   ]
  },
  {
   "cell_type": "code",
   "execution_count": 83,
   "id": "1045988c-db86-4e4b-b3ed-06615baae5e7",
   "metadata": {},
   "outputs": [
    {
     "name": "stdout",
     "output_type": "stream",
     "text": [
      "       DR_NO               Date Rptd                DATE OCC  TIME OCC  AREA  \\\n",
      "0  241711715  08/01/2024 12:00:00 AM  08/01/2024 12:00:00 AM      1319    17   \n",
      "1  231014031  09/21/2023 12:00:00 AM  09/15/2023 12:00:00 AM      1930    10   \n",
      "2  231010808  06/27/2023 12:00:00 AM  06/26/2023 12:00:00 AM      1230    10   \n",
      "3  211410441  04/25/2021 12:00:00 AM  04/25/2021 12:00:00 AM      2330    14   \n",
      "4  211114569  10/25/2021 12:00:00 AM  10/25/2021 12:00:00 AM      1455    11   \n",
      "\n",
      "     AREA NAME  Rpt Dist No  Part 1-2  Crm Cd  \\\n",
      "0   Devonshire         1791         1     440   \n",
      "1  West Valley         1011         2     354   \n",
      "2  West Valley         1015         2     354   \n",
      "3      Pacific         1488         2     626   \n",
      "4    Northeast         1123         1     210   \n",
      "\n",
      "                          Crm Cd Desc  ... Status  Status Desc Crm Cd 1  \\\n",
      "0  THEFT PLAIN - PETTY ($950 & UNDER)  ...     IC  Invest Cont    440.0   \n",
      "1                   THEFT OF IDENTITY  ...     IC  Invest Cont    354.0   \n",
      "2                   THEFT OF IDENTITY  ...     IC  Invest Cont    354.0   \n",
      "3   INTIMATE PARTNER - SIMPLE ASSAULT  ...     IC  Invest Cont    626.0   \n",
      "4                             ROBBERY  ...     IC  Invest Cont    210.0   \n",
      "\n",
      "  Crm Cd 2  Crm Cd 3 Crm Cd 4                                  LOCATION  \\\n",
      "0      NaN       NaN      NaN   8300    KELVIN                       AV   \n",
      "1      NaN       NaN      NaN  18900    CANTLAY                      ST   \n",
      "2      NaN       NaN      NaN   7300    ENFIELD                      AV   \n",
      "3      NaN       NaN      NaN   5800 W  CENTURY                      BL   \n",
      "4      NaN       NaN      NaN   2900    LOS FELIZ                    BL   \n",
      "\n",
      "  Cross Street      LAT       LON  \n",
      "0          NaN  34.2200 -118.5863  \n",
      "1          NaN  34.2023 -118.5458  \n",
      "2          NaN  34.2033 -118.5241  \n",
      "3          NaN  33.9456 -118.3835  \n",
      "4          NaN   0.0000    0.0000  \n",
      "\n",
      "[5 rows x 28 columns]\n"
     ]
    }
   ],
   "source": [
    "df = pd.read_csv(\"crime_data.csv\")\n",
    "\n",
    "print(df[:5])"
   ]
  },
  {
   "cell_type": "markdown",
   "id": "dbaf11a7-7109-42ca-8fed-81fcc5297afd",
   "metadata": {},
   "source": [
    "2. Identify columns with missing values and their respective counts. Drop columns where more than\n",
    "50% of the data is missing (store this version as a new dataset)."
   ]
  },
  {
   "cell_type": "code",
   "execution_count": 86,
   "id": "59c4e0d3-dab0-4dae-83ff-0c024390f0d6",
   "metadata": {},
   "outputs": [
    {
     "name": "stdout",
     "output_type": "stream",
     "text": [
      "Columns with missing values:\n",
      " DR_NO                 0\n",
      "Date Rptd             0\n",
      "DATE OCC              0\n",
      "TIME OCC              0\n",
      "AREA                  0\n",
      "AREA NAME             0\n",
      "Rpt Dist No           0\n",
      "Part 1-2              0\n",
      "Crm Cd                0\n",
      "Crm Cd Desc           0\n",
      "Mocodes            7498\n",
      "Vict Age              0\n",
      "Vict Sex           7163\n",
      "Vict Descent       7165\n",
      "Premis Cd             0\n",
      "Premis Desc          29\n",
      "Weapon Used Cd    33654\n",
      "Weapon Desc       33654\n",
      "Status                0\n",
      "Status Desc           0\n",
      "Crm Cd 1              2\n",
      "Crm Cd 2          46448\n",
      "Crm Cd 3          49885\n",
      "Crm Cd 4          49995\n",
      "LOCATION              0\n",
      "Cross Street      42258\n",
      "LAT                   0\n",
      "LON                   0\n",
      "dtype: int64\n"
     ]
    }
   ],
   "source": [
    "null = df.isnull()\n",
    "null_sum = null.sum()\n",
    "print(\"Columns with missing values:\\n\", null_sum)\n",
    "\n",
    "df.dropna(axis=1, thresh=2500, inplace=True) #there are 5000 rows in the table, so I just took as the threshold the half of it (2500 rows)\n",
    "\n",
    "df.to_csv(\"cleaned_crime_data.csv\", index=False)"
   ]
  },
  {
   "cell_type": "markdown",
   "id": "cdc9247c-857a-48cf-8ffb-c64ffbaf8e18",
   "metadata": {},
   "source": [
    "3. Convert the DATE OCC column to a datetime format. Extract the year, month, and day into separate columns. Create a new column for the hour using the TIME OCC column."
   ]
  },
  {
   "cell_type": "code",
   "execution_count": 91,
   "id": "c9c58057-7b11-440a-bc9a-cb924cd33c2d",
   "metadata": {},
   "outputs": [],
   "source": [
    "df['DATE OCC'] = pd.to_datetime(df['DATE OCC'], format=\"%m/%d/%Y %I:%M:%S %p\", errors='coerce')\n",
    "\n",
    "df['Year'] = df['DATE OCC'].dt.year\n",
    "df['Month'] = df['DATE OCC'].dt.month\n",
    "df['Day'] = df['DATE OCC'].dt.day\n",
    "\n",
    "df['TIME OCC'] = pd.to_datetime(df['TIME OCC'], format=\"%H%M\", errors='coerce')\n",
    "df['Hour'] = df['TIME OCC'].dt.hour"
   ]
  },
  {
   "cell_type": "markdown",
   "id": "142fd3dd-d32b-48af-ab7b-6c260ccffbf0",
   "metadata": {},
   "source": [
    "checking if everything was done correctly."
   ]
  },
  {
   "cell_type": "code",
   "execution_count": 94,
   "id": "6c801c52-fe1a-45db-90c9-4e6a520ec313",
   "metadata": {},
   "outputs": [
    {
     "name": "stdout",
     "output_type": "stream",
     "text": [
      "DR_NO                      int64\n",
      "Date Rptd                 object\n",
      "DATE OCC          datetime64[ns]\n",
      "TIME OCC          datetime64[ns]\n",
      "AREA                       int64\n",
      "AREA NAME                 object\n",
      "Rpt Dist No                int64\n",
      "Part 1-2                   int64\n",
      "Crm Cd                     int64\n",
      "Crm Cd Desc               object\n",
      "Mocodes                   object\n",
      "Vict Age                   int64\n",
      "Vict Sex                  object\n",
      "Vict Descent              object\n",
      "Premis Cd                float64\n",
      "Premis Desc               object\n",
      "Weapon Used Cd           float64\n",
      "Weapon Desc               object\n",
      "Status                    object\n",
      "Status Desc               object\n",
      "Crm Cd 1                 float64\n",
      "Crm Cd 2                 float64\n",
      "LOCATION                  object\n",
      "Cross Street              object\n",
      "LAT                      float64\n",
      "LON                      float64\n",
      "Year                       int32\n",
      "Month                      int32\n",
      "Day                        int32\n",
      "Hour                     float64\n",
      "dtype: object\n"
     ]
    }
   ],
   "source": [
    "print(df.dtypes)"
   ]
  },
  {
   "cell_type": "markdown",
   "id": "25143ec6-ecc0-49d2-bf7a-a0720b697743",
   "metadata": {},
   "source": [
    "4. Filter the dataset for crimes that occurred in 2023. Further filter crimes with the description BURGLARY in the Crm Cd Desc column."
   ]
  },
  {
   "cell_type": "code",
   "execution_count": 103,
   "id": "174c9ee9-a9ae-4b1a-8d40-ed4e8f271163",
   "metadata": {},
   "outputs": [
    {
     "name": "stdout",
     "output_type": "stream",
     "text": [
      "        DR_NO               Date Rptd   DATE OCC            TIME OCC  AREA  \\\n",
      "1   231014031  09/21/2023 12:00:00 AM 2023-09-15 1900-01-01 19:30:00    10   \n",
      "2   231010808  06/27/2023 12:00:00 AM 2023-06-26 1900-01-01 12:30:00    10   \n",
      "9   230710008  05/24/2023 12:00:00 AM 2023-04-11 1900-01-01 09:00:00     7   \n",
      "11  231306866  02/24/2023 12:00:00 AM 2023-02-24 1900-01-01 10:30:00    13   \n",
      "13  230714059  08/31/2023 12:00:00 AM 2023-08-30 1900-01-01 11:48:00     7   \n",
      "\n",
      "      AREA NAME  Rpt Dist No  Part 1-2  Crm Cd  \\\n",
      "1   West Valley         1011         2     354   \n",
      "2   West Valley         1015         2     354   \n",
      "9      Wilshire          721         2     354   \n",
      "11       Newton         1361         1     761   \n",
      "13     Wilshire          723         1     442   \n",
      "\n",
      "                                 Crm Cd Desc  ... Crm Cd 1  Crm Cd 2  \\\n",
      "1                          THEFT OF IDENTITY  ...    354.0       NaN   \n",
      "2                          THEFT OF IDENTITY  ...    354.0       NaN   \n",
      "9                          THEFT OF IDENTITY  ...    354.0       NaN   \n",
      "11                           BRANDISH WEAPON  ...    761.0       NaN   \n",
      "13  SHOPLIFTING - PETTY THEFT ($950 & UNDER)  ...    442.0       NaN   \n",
      "\n",
      "                                    LOCATION Cross Street      LAT       LON  \\\n",
      "1   18900    CANTLAY                      ST          NaN  34.2023 -118.5458   \n",
      "2    7300    ENFIELD                      AV          NaN  34.2033 -118.5241   \n",
      "9     100 S  DOHENY                       DR          NaN  34.0750 -118.3897   \n",
      "11    200 W  48TH                         ST          NaN  33.9992 -118.2762   \n",
      "13   7900    BEVERLY                      BL          NaN  34.0761 -118.3616   \n",
      "\n",
      "    Year Month Day  Hour  \n",
      "1   2023     9  15  19.0  \n",
      "2   2023     6  26  12.0  \n",
      "9   2023     4  11   9.0  \n",
      "11  2023     2  24  10.0  \n",
      "13  2023     8  30  11.0  \n",
      "\n",
      "[5 rows x 30 columns]\n",
      "         DR_NO               Date Rptd   DATE OCC            TIME OCC  AREA  \\\n",
      "47   231107877  04/15/2023 12:00:00 AM 2023-01-15 1900-01-01 05:00:00    11   \n",
      "147  231912840  08/15/2023 12:00:00 AM 2023-08-14 1900-01-01 22:00:00    19   \n",
      "292  230813484  08/19/2023 12:00:00 AM 2023-08-19 1900-01-01 05:10:00     8   \n",
      "317  230126836  12/20/2023 12:00:00 AM 2023-12-10 1900-01-01 12:00:00     1   \n",
      "326  231506351  02/26/2023 12:00:00 AM 2023-02-22 1900-01-01 12:30:00    15   \n",
      "\n",
      "       AREA NAME  Rpt Dist No  Part 1-2  Crm Cd Crm Cd Desc  ... Crm Cd 1  \\\n",
      "47     Northeast         1151         1     310    BURGLARY  ...    310.0   \n",
      "147      Mission         1962         1     310    BURGLARY  ...    310.0   \n",
      "292      West LA          857         1     310    BURGLARY  ...    310.0   \n",
      "317      Central          154         1     310    BURGLARY  ...    310.0   \n",
      "326  N Hollywood         1562         1     310    BURGLARY  ...    310.0   \n",
      "\n",
      "     Crm Cd 2                                  LOCATION Cross Street      LAT  \\\n",
      "47      946.0   5000 W  SUNSET                       BL          NaN  34.0981   \n",
      "147     998.0  15000    CORE                         LN          NaN  34.2424   \n",
      "292       NaN   9400 W  PICO                         BL          NaN  34.0553   \n",
      "317       NaN    100 E  6TH                          ST          NaN  34.0460   \n",
      "326       NaN   4400    BABCOCK                      AV          NaN  34.1504   \n",
      "\n",
      "          LON  Year Month Day  Hour  \n",
      "47  -118.2983  2023     1  15   5.0  \n",
      "147 -118.4596  2023     8  14  22.0  \n",
      "292 -118.3943  2023     8  19   5.0  \n",
      "317 -118.2493  2023    12  10  12.0  \n",
      "326 -118.4063  2023     2  22  12.0  \n",
      "\n",
      "[5 rows x 30 columns]\n"
     ]
    }
   ],
   "source": [
    "filter_year_2023 = df_clean[df_clean['DATE OCC'].dt.year == 2023] \n",
    "filter_crimes_burglary = filter_year_2023[filter_year_2023['Crm Cd Desc'] == 'BURGLARY']\n",
    "\n",
    "print(filter_year_2023.head())\n",
    "print(filter_crimes_burglary.head())"
   ]
  },
  {
   "cell_type": "markdown",
   "id": "5cfda80f-a8ce-45cf-86d1-3d1d957095db",
   "metadata": {},
   "source": [
    "5. Group the data by AREA NAME and calculate the total number of crimes and the average victim age. Sort the results by total crimes in descending order."
   ]
  },
  {
   "cell_type": "code",
   "execution_count": 106,
   "id": "b5e0fac1-cbf3-4323-b0f6-830aa27227ff",
   "metadata": {},
   "outputs": [
    {
     "name": "stdout",
     "output_type": "stream",
     "text": [
      "             mean_victimage  count_crimes\n",
      "AREA NAME                                \n",
      "Central           28.481376          3517\n",
      "77th Street       29.151525          3115\n",
      "Pacific           28.978029          3004\n",
      "Southwest         29.048040          2831\n",
      "Hollywood         28.331377          2556\n",
      "Newton            25.054789          2537\n",
      "Olympic           27.732858          2523\n",
      "N Hollywood       28.346784          2503\n",
      "Southeast         28.362749          2459\n",
      "Rampart           26.273451          2388\n",
      "Wilshire          29.595628          2379\n",
      "West LA           30.307248          2249\n",
      "Van Nuys          31.748381          2162\n",
      "West Valley       30.640492          2114\n",
      "Northeast         28.732763          2103\n",
      "Topanga           34.018786          2076\n",
      "Harbor            26.983918          2052\n",
      "Devonshire        29.597735          2031\n",
      "Mission           29.609415          1933\n",
      "Hollenbeck        26.158437          1843\n",
      "Foothill          30.511385          1625\n"
     ]
    }
   ],
   "source": [
    "areaname = df.groupby('AREA NAME')\n",
    "\n",
    "mean_victimage = areaname['Vict Age'].mean()\n",
    "count_crimes = areaname['Crm Cd Desc'].count()\n",
    "\n",
    "r = pd.DataFrame({\n",
    "    'mean_victimage': mean_victimage,\n",
    "    'count_crimes': count_crimes\n",
    "})\n",
    "\n",
    "r_sorted = r.sort_values(by='count_crimes', ascending=False)\n",
    "print(r_sorted)"
   ]
  },
  {
   "cell_type": "markdown",
   "id": "35dd038f-b6ee-4845-ba6c-d376ae7fb399",
   "metadata": {},
   "source": [
    "**PART 2**"
   ]
  },
  {
   "cell_type": "markdown",
   "id": "2e14ab6f-1b97-4ce1-b6ba-20a910e9647e",
   "metadata": {},
   "source": [
    "1. Find the top 3 most frequent Crm Cd Desc values."
   ]
  },
  {
   "cell_type": "code",
   "execution_count": 110,
   "id": "c5075f71-9818-4f58-a2a2-31bea92acbe5",
   "metadata": {},
   "outputs": [
    {
     "name": "stdout",
     "output_type": "stream",
     "text": [
      "Crm Cd Desc\n",
      "VEHICLE - STOLEN            5733\n",
      "BATTERY - SIMPLE ASSAULT    3715\n",
      "THEFT OF IDENTITY           3169\n",
      "Name: count, dtype: int64\n"
     ]
    }
   ],
   "source": [
    "top3_crimes = df['Crm Cd Desc'].value_counts()[:3]\n",
    "print(top3_crimes)"
   ]
  },
  {
   "cell_type": "markdown",
   "id": "d38ff605-5ecb-49ad-930b-596647a758a4",
   "metadata": {},
   "source": [
    "2. Group the data by Hour and count the number of crimes."
   ]
  },
  {
   "cell_type": "code",
   "execution_count": 113,
   "id": "e16a01ea-37bd-44e3-b99a-879075d3e49b",
   "metadata": {},
   "outputs": [
    {
     "name": "stdout",
     "output_type": "stream",
     "text": [
      "Hour\n",
      "1.0      222\n",
      "2.0      364\n",
      "3.0     1394\n",
      "4.0     1111\n",
      "5.0      954\n",
      "6.0     1106\n",
      "7.0     1302\n",
      "8.0     1776\n",
      "9.0     1841\n",
      "10.0    2738\n",
      "11.0    2278\n",
      "12.0    3574\n",
      "13.0    2547\n",
      "14.0    2667\n",
      "15.0    2773\n",
      "16.0    2597\n",
      "17.0    2914\n",
      "18.0    3015\n",
      "19.0    2762\n",
      "20.0    3357\n",
      "21.0    2677\n",
      "22.0    2585\n",
      "23.0    2362\n",
      "dtype: int64\n"
     ]
    }
   ],
   "source": [
    "crimes_by_hour = df.groupby('Hour').size()\n",
    "print(crimes_by_hour)"
   ]
  },
  {
   "cell_type": "markdown",
   "id": "3df36d3f-360d-4dc2-b91c-e3106af913ca",
   "metadata": {},
   "source": [
    "3. Group the data by Vict Sex and calculate: Total crimes, Average victim age."
   ]
  },
  {
   "cell_type": "code",
   "execution_count": 116,
   "id": "10a3fb9b-89f1-4f81-8a2c-5a9cbb77df2b",
   "metadata": {},
   "outputs": [
    {
     "name": "stdout",
     "output_type": "stream",
     "text": [
      "          mean_victimage  count_crimes\n",
      "Vict Sex                              \n",
      "H              36.333333             3\n",
      "X               2.672043          4836\n",
      "F              38.164156         17922\n",
      "M              37.165621         20076\n"
     ]
    }
   ],
   "source": [
    "victsex = df.groupby('Vict Sex')\n",
    "\n",
    "mean_victimage = victsex['Vict Age'].mean()\n",
    "count_crimes = victsex['Crm Cd Desc'].count()\n",
    "\n",
    "r = pd.DataFrame({\n",
    "    'mean_victimage': mean_victimage,\n",
    "    'count_crimes': count_crimes\n",
    "})\n",
    "\n",
    "r_sorted = r.sort_values(by='count_crimes', ascending=True)\n",
    "print(r_sorted)"
   ]
  },
  {
   "cell_type": "markdown",
   "id": "939233e7-4e0c-4361-a4c3-3e237f4e637d",
   "metadata": {},
   "source": [
    "**PART 4**"
   ]
  },
  {
   "cell_type": "markdown",
   "id": "3a5b72b4-7bff-4a63-a783-73ce60f7844c",
   "metadata": {},
   "source": [
    "Create a new column, Severity Score, based on the following rules:\n",
    "\n",
    "• Assign 5 points if a weapon was used (Weapon Used Cd is not null).\n",
    "\n",
    "• Assign 3 points for crimes under BURGLARY.\n",
    "\n",
    "• Assign 1 point for all other crimes.\n",
    "\n",
    "• Group by AREA NAME and find the total severity score for each area."
   ]
  },
  {
   "cell_type": "code",
   "execution_count": 122,
   "id": "014c70bd-0e9d-4446-8fa6-e13055f206a1",
   "metadata": {},
   "outputs": [
    {
     "name": "stdout",
     "output_type": "stream",
     "text": [
      "AREA NAME\n",
      "77th Street    9247\n",
      "Central        8541\n",
      "Devonshire     4429\n",
      "Foothill       3823\n",
      "Harbor         4940\n",
      "Hollenbeck     4439\n",
      "Hollywood      6590\n",
      "Mission        4493\n",
      "N Hollywood    5431\n",
      "Newton         6773\n",
      "Northeast      4461\n",
      "Olympic        6257\n",
      "Pacific        6490\n",
      "Rampart        6216\n",
      "Southeast      7129\n",
      "Southwest      7005\n",
      "Topanga        4484\n",
      "Van Nuys       4724\n",
      "West LA        4625\n",
      "West Valley    4952\n",
      "Wilshire       5203\n",
      "Name: Severity Score, dtype: int64\n"
     ]
    }
   ],
   "source": [
    "def severity_score(x):\n",
    "    if pd.notnull(x['Weapon Used Cd']):\n",
    "        return 5\n",
    "    elif x['Crm Cd Desc'] == 'BURGLARY':\n",
    "        return 3\n",
    "    else:\n",
    "        return 1\n",
    "\n",
    "df['Severity Score'] = df.apply(severity_score, axis=1)\n",
    "severity_by_area = df.groupby('AREA NAME')['Severity Score'].sum()\n",
    "\n",
    "print(severity_by_area)"
   ]
  },
  {
   "cell_type": "markdown",
   "id": "9a42714a-96dd-4454-9eb8-8d6e1b68f429",
   "metadata": {},
   "source": [
    "**Bonus Part**"
   ]
  },
  {
   "cell_type": "markdown",
   "id": "0aaf5d40-b494-45ca-b722-baeec985d6b3",
   "metadata": {},
   "source": [
    "Use the LAT and LON columns to identify crimes that occurred within a specific latitude-longitude bounding box (e.g., downtown area)."
   ]
  },
  {
   "cell_type": "code",
   "execution_count": 128,
   "id": "aab254d7-9bab-4c49-b6c6-46c2c516e7a6",
   "metadata": {},
   "outputs": [
    {
     "name": "stdout",
     "output_type": "stream",
     "text": [
      "           DR_NO               Date Rptd   DATE OCC            TIME OCC  AREA  \\\n",
      "22     201109462  05/18/2020 12:00:00 AM 2020-05-17 1900-01-01 13:30:00    11   \n",
      "104    230415697  12/24/2023 12:00:00 AM 2023-12-24 1900-01-01 14:30:00     4   \n",
      "188    220404657  01/21/2022 12:00:00 AM 2022-01-21 1900-01-01 17:00:00     4   \n",
      "211    230405503  02/15/2023 12:00:00 AM 2023-02-15 1900-01-01 14:50:00     4   \n",
      "215    210409270  06/03/2021 12:00:00 AM 2021-06-02 1900-01-01 23:30:00     4   \n",
      "...          ...                     ...        ...                 ...   ...   \n",
      "49865  211116149  12/07/2021 12:00:00 AM 2021-12-01 1900-01-01 15:45:00    11   \n",
      "49889  200408733  05/11/2020 12:00:00 AM 2020-05-10 1900-01-01 20:00:00     4   \n",
      "49950  220401295  11/25/2022 12:00:00 AM 2022-11-23 1900-01-01 23:20:00     4   \n",
      "49959  220411213  07/24/2022 12:00:00 AM 2022-07-19 1900-01-01 12:00:00     4   \n",
      "49972  220415792  11/29/2022 12:00:00 AM 2022-11-28 1900-01-01 17:00:00     4   \n",
      "\n",
      "        AREA NAME  Rpt Dist No  Part 1-2  Crm Cd  \\\n",
      "22      Northeast         1139         2     900   \n",
      "104    Hollenbeck          479         2     626   \n",
      "188    Hollenbeck          478         2     860   \n",
      "211    Hollenbeck          404         2     745   \n",
      "215    Hollenbeck          469         1     341   \n",
      "...           ...          ...       ...     ...   \n",
      "49865   Northeast         1129         2     745   \n",
      "49889  Hollenbeck          449         1     420   \n",
      "49950  Hollenbeck          427         2     740   \n",
      "49959  Hollenbeck          439         1     520   \n",
      "49972  Hollenbeck          449         1     331   \n",
      "\n",
      "                                             Crm Cd Desc  ... Crm Cd 2  \\\n",
      "22                              VIOLATION OF COURT ORDER  ...      NaN   \n",
      "104                    INTIMATE PARTNER - SIMPLE ASSAULT  ...      NaN   \n",
      "188                          BATTERY WITH SEXUAL CONTACT  ...      NaN   \n",
      "211             VANDALISM - MISDEAMEANOR ($399 OR UNDER)  ...      NaN   \n",
      "215    THEFT-GRAND ($950.01 & OVER)EXCPT,GUNS,FOWL,LI...  ...      NaN   \n",
      "...                                                  ...  ...      ...   \n",
      "49865           VANDALISM - MISDEAMEANOR ($399 OR UNDER)  ...      NaN   \n",
      "49889    THEFT FROM MOTOR VEHICLE - PETTY ($950 & UNDER)  ...      NaN   \n",
      "49950  VANDALISM - FELONY ($400 & OVER, ALL CHURCH VA...  ...    998.0   \n",
      "49959                           VEHICLE - ATTEMPT STOLEN  ...      NaN   \n",
      "49972  THEFT FROM MOTOR VEHICLE - GRAND ($950.01 AND ...  ...      NaN   \n",
      "\n",
      "                                      LOCATION Cross Street      LAT  \\\n",
      "22     6400    LA RIBA                      WY          NaN  34.1116   \n",
      "104     800    SPENCE                       ST          NaN  34.0277   \n",
      "188    3400    PERCY                        ST          NaN  34.0286   \n",
      "211                        5500    VIA MARISOL          NaN  34.1045   \n",
      "215                             400 S  INDIANA          NaN  34.0333   \n",
      "...                                        ...          ...      ...   \n",
      "49865                         400 N  AVENUE 66          NaN  34.1164   \n",
      "49889  1100    STONE                        ST          NaN  34.0509   \n",
      "49950  4600    KLAMATH                      ST          NaN  34.0802   \n",
      "49959  1900 N  MARIANNA                     AV          NaN  34.0635   \n",
      "49972  3000    GANAHL                       ST          NaN  34.0520   \n",
      "\n",
      "            LON  Year  Month Day  Hour Severity Score  \n",
      "22    -118.1818  2020      5  17  13.0              1  \n",
      "104   -118.1979  2023     12  24  14.0              5  \n",
      "188   -118.1996  2022      1  21  17.0              5  \n",
      "211   -118.1850  2023      2  15  14.0              1  \n",
      "215   -118.1946  2021      6   2  23.0              1  \n",
      "...         ...   ...    ...  ..   ...            ...  \n",
      "49865 -118.1776  2021     12   1  15.0              1  \n",
      "49889 -118.1932  2020      5  10  20.0              1  \n",
      "49950 -118.1848  2022     11  23  23.0              1  \n",
      "49959 -118.1791  2022      7  19  12.0              1  \n",
      "49972 -118.1958  2022     11  28  17.0              1  \n",
      "\n",
      "[893 rows x 31 columns]\n"
     ]
    }
   ],
   "source": [
    "min_lat = 34\n",
    "max_lat = 34.2\n",
    "min_lon = -118.2\n",
    "max_lon = -118\n",
    "\n",
    "boundary_crimes = df[(df['LAT'] >= min_lat) & (df['LAT'] <= max_lat) & (df['LON'] >= min_lon) & (df['LON'] <= max_lon)]\n",
    "\n",
    "print(boundary_crimes)"
   ]
  }
 ],
 "metadata": {
  "kernelspec": {
   "display_name": "Python [conda env:base] *",
   "language": "python",
   "name": "conda-base-py"
  },
  "language_info": {
   "codemirror_mode": {
    "name": "ipython",
    "version": 3
   },
   "file_extension": ".py",
   "mimetype": "text/x-python",
   "name": "python",
   "nbconvert_exporter": "python",
   "pygments_lexer": "ipython3",
   "version": "3.12.7"
  }
 },
 "nbformat": 4,
 "nbformat_minor": 5
}
